{
 "cells": [
  {
   "cell_type": "code",
   "execution_count": 6,
   "metadata": {},
   "outputs": [],
   "source": [
    "import requests\n",
    "import pandas as pd\n",
    "from datetime import datetime\n"
   ]
  },
  {
   "cell_type": "code",
   "execution_count": null,
   "metadata": {},
   "outputs": [
    {
     "name": "stdout",
     "output_type": "stream",
     "text": [
      "Empty DataFrame\n",
      "Columns: []\n",
      "Index: []\n",
      "429\n",
      "Erreur lors de la récupération des données : 429\n"
     ]
    }
   ],
   "source": [
    "\n",
    "def fetch_grippe_data():\n",
    "    url = \"https://www.sentiweb.fr/api/v1/datasets/rest/incidence?indicator=3&geo=RDD&span=all\"\n",
    "    response = requests.get(url)\n",
    "    if (response.status_code==200)\n",
    "        data = response.json()\n",
    "        data = data.get(\"data\", [])\n",
    "        df = pd.DataFrame(data)\n",
    "        return df\n",
    "fetch_grippe_data()\n",
    "# URL de l'API pour les données d'incidence de la grippe\n",
    "url_region = \"https://www.sentiweb.fr/api/v1/datasets/rest/incidence?indicator=3&geo=RDD&span=all\"\n",
    "\n",
    "# Faire la requête GET pour récupérer les données\n",
    "response = requests.get(url_region)\n",
    "print(response.status_code)\n",
    "# Vérifier si la requête est réussie\n",
    "if response.status_code == 200:\n",
    "    # Charger les données JSON\n",
    "    data = response.json()\n",
    "    # Extraire les données sous la clé \"data\"\n",
    "    data = data.get(\"data\", [])\n",
    "    # Créer un DataFrame à partir des données\n",
    "    df = pd.DataFrame(data)\n",
    "    print(df)\n",
    "    # Filtrer les données pour novembre 2024, décembre 2024, et janvier 2025\n",
    "    start_date = 201801\n",
    "    # Filtrer les données entre les deux dates spécifiées\n",
    "    df_region = df[(df['week'] >= start_date)]\n",
    "    # Exporter le DataFrame filtré dans un fichier CSV\n",
    "    df_region.to_csv(f'incidence_grippe_REGION_{start_date}.csv', index=False)\n",
    "    print(\"Les données Région ont été exportées'.\")\n",
    "else:\n",
    "    print(f\"Erreur lors de la récupération des données : {response.status_code}\")"
   ]
  }
 ],
 "metadata": {
  "kernelspec": {
   "display_name": ".venv",
   "language": "python",
   "name": "python3"
  },
  "language_info": {
   "codemirror_mode": {
    "name": "ipython",
    "version": 3
   },
   "file_extension": ".py",
   "mimetype": "text/x-python",
   "name": "python",
   "nbconvert_exporter": "python",
   "pygments_lexer": "ipython3",
   "version": "3.9.6"
  }
 },
 "nbformat": 4,
 "nbformat_minor": 2
}
